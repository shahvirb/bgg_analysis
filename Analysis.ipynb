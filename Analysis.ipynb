{
 "cells": [
  {
   "cell_type": "markdown",
   "metadata": {},
   "source": [
    "### Setup\n",
    "Download .sqlite file from https://www.kaggle.com/gabrio/board-games-dataset/data and save as database.sqlite"
   ]
  },
  {
   "cell_type": "code",
   "execution_count": null,
   "metadata": {},
   "outputs": [],
   "source": [
    "import pandas as pd\n",
    "import matplotlib.pyplot as plt\n",
    "import numpy as np\n",
    "import sqlite3\n",
    "conn = sqlite3.connect('database.sqlite')\n",
    "conn.row_factory = sqlite3.Row\n",
    "c = conn.cursor()"
   ]
  },
  {
   "cell_type": "markdown",
   "metadata": {},
   "source": [
    "### Find games of mechanic"
   ]
  },
  {
   "cell_type": "code",
   "execution_count": null,
   "metadata": {},
   "outputs": [],
   "source": [
    "FILTER_MECHANIC = '%Worker Placement%'\n",
    "\n",
    "c.execute('SELECT * FROM BoardGames WHERE \"attributes.boardgamemechanic\" LIKE ?', [FILTER_MECHANIC])\n",
    "rows = c.fetchall()\n",
    "print('Found {} games'.format(len(rows)))"
   ]
  },
  {
   "cell_type": "code",
   "execution_count": null,
   "metadata": {},
   "outputs": [],
   "source": [
    "c.execute('SELECT * FROM BoardGames WHERE \"attributes.boardgamemechanic\" LIKE ? AND \"stats.subtype.boardgame.pos\" IS NOT NULL', [FILTER_MECHANIC])\n",
    "rows = c.fetchall()\n",
    "print('Found {} ranked games'.format(len(rows)))\n",
    "\n",
    "#r[stats.subtype.boardgame.pos] for r in rows"
   ]
  },
  {
   "cell_type": "markdown",
   "metadata": {},
   "source": [
    "### Top Games"
   ]
  },
  {
   "cell_type": "code",
   "execution_count": null,
   "metadata": {},
   "outputs": [],
   "source": [
    "TOP_N_LIMIT = 10\n",
    "\n",
    "c.execute('SELECT * FROM BoardGames WHERE \"attributes.boardgamemechanic\" LIKE ? AND \"stats.subtype.boardgame.pos\" IS NOT NULL ORDER BY \"stats.subtype.boardgame.pos\" ASC LIMIT ?', [FILTER_MECHANIC, TOP_N_LIMIT])\n",
    "rows = c.fetchall()\n",
    "\n",
    "def create_games(rows):\n",
    "    games = []\n",
    "    for r in rows:\n",
    "        game = {}\n",
    "        for key in r.keys():\n",
    "            game[key] = r[key]\n",
    "        games.append(game)\n",
    "    return games\n",
    "\n",
    "games = pd.DataFrame(create_games(rows))\n",
    "top_games = games[['stats.subtype.boardgame.pos', 'details.name', 'details.yearpublished', 'attributes.boardgamedesigner', 'stats.averageweight', 'details.minplayers', 'details.maxplayers', 'details.minplaytime', 'details.maxplaytime']]\n",
    "top_games"
   ]
  },
  {
   "cell_type": "markdown",
   "metadata": {},
   "source": [
    "### By Designer"
   ]
  },
  {
   "cell_type": "code",
   "execution_count": null,
   "metadata": {},
   "outputs": [],
   "source": [
    "def calculate_designer_histogram(games):\n",
    "    designers = [game.get('attributes.boardgamedesigner') for index, game in games.iterrows()]\n",
    "    x = np.array(designers)\n",
    "    unique, counts = np.unique(x, return_counts=True)\n",
    "    sort = np.argsort(counts)\n",
    "    counts = [counts[i] for i in sort]\n",
    "    unique = [unique[i] for i in sort]\n",
    "    hist = np.asarray((unique, counts))\n",
    "    hist = np.flip(hist, axis=1)\n",
    "    return hist\n",
    "\n",
    "hist = calculate_designer_histogram(top_games)"
   ]
  },
  {
   "cell_type": "code",
   "execution_count": null,
   "metadata": {},
   "outputs": [],
   "source": [
    "def show_designer_histogram(hist):\n",
    "    plt.rcdefaults()\n",
    "    fig, ax = plt.subplots()\n",
    "\n",
    "    people = hist[0]\n",
    "    y_pos = np.arange(len(people))\n",
    "    performance = hist[1]\n",
    "\n",
    "    ax.barh(y_pos, performance, align='center',\n",
    "            color='green', ecolor='black')\n",
    "    ax.set_yticks(y_pos)\n",
    "    ax.set_yticklabels(people)\n",
    "    ax.invert_yaxis()  # labels read top-to-bottom\n",
    "    ax.set_ylabel('Designer')\n",
    "    ax.set_xlabel('Games')\n",
    "    ax.set_title('Leaderboard')\n",
    "    plt.show()\n",
    "    \n",
    "show_designer_histogram(hist)\n",
    "\n",
    "def find_games_by_designer(games, name):\n",
    "    return games.where(games['attributes.boardgamedesigner'] == name).dropna(how='all')\n",
    "\n",
    "\n",
    "for designer_name in hist[0]:\n",
    "    designed_games = find_games_by_designer(games, designer_name)\n",
    "    display(designed_games[['attributes.boardgamedesigner', 'stats.subtype.boardgame.pos', 'details.name', 'details.yearpublished', 'stats.averageweight', 'details.minplayers', 'details.maxplayers', 'details.minplaytime', 'details.maxplaytime']])\n"
   ]
  },
  {
   "cell_type": "code",
   "execution_count": null,
   "metadata": {},
   "outputs": [],
   "source": []
  }
 ],
 "metadata": {
  "kernelspec": {
   "display_name": "Python 3",
   "language": "python",
   "name": "python3"
  },
  "language_info": {
   "codemirror_mode": {
    "name": "ipython",
    "version": 3
   },
   "file_extension": ".py",
   "mimetype": "text/x-python",
   "name": "python",
   "nbconvert_exporter": "python",
   "pygments_lexer": "ipython3",
   "version": "3.6.1"
  }
 },
 "nbformat": 4,
 "nbformat_minor": 2
}
